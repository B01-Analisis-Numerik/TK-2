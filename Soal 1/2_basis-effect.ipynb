{
 "cells": [
  {
   "cell_type": "code",
   "execution_count": 80,
   "metadata": {},
   "outputs": [],
   "source": [
    "import pandas as pd\n",
    "import numpy as np"
   ]
  },
  {
   "cell_type": "markdown",
   "metadata": {},
   "source": [
    "# Mencari *Conditional Number* untuk Setiap Fungsi Basis"
   ]
  },
  {
   "cell_type": "code",
   "execution_count": 81,
   "metadata": {},
   "outputs": [],
   "source": [
    "t_values = np.array([0, 60, 120, 180, 240, 300, 360, 420, 480, 540])\n",
    "x_values = np.array([0, 2.73, 2.70, 2.62, 2.68, 2.68, 2.64, 2.72, 2.69, 2.55])\n",
    "y_values = np.array([0, 5, 10, 15, 20, 25, 30, 35, 40, 45])"
   ]
  },
  {
   "cell_type": "code",
   "execution_count": 82,
   "metadata": {},
   "outputs": [],
   "source": [
    "def basis_A(t, i):\n",
    "    return t ** i\n",
    "\n",
    "def basis_B(t, i):\n",
    "    return (t - 60) ** i\n",
    "\n",
    "def basis_C(t, i):\n",
    "    return (t - 480) ** i\n",
    "\n",
    "def basis_D(t, i):\n",
    "    return ((t - 480) / 30) ** i"
   ]
  },
  {
   "cell_type": "code",
   "execution_count": 83,
   "metadata": {},
   "outputs": [],
   "source": [
    "def create_matrix(t_values, basis_function):\n",
    "    n = len(t_values)\n",
    "    A = np.zeros((n, n))\n",
    "    for i in range(n):\n",
    "        for j in range(n):\n",
    "            A[i, j] = basis_function(t_values[i], j)\n",
    "    return A"
   ]
  },
  {
   "cell_type": "code",
   "execution_count": 84,
   "metadata": {},
   "outputs": [],
   "source": [
    "condition_numbers = {\n",
    "    \"Basis Function\": [],\n",
    "    \"Condition Number (Norm 1)\": [],\n",
    "    \"Condition Number (Norm 2)\": [],\n",
    "    \"Condition Number (Norm Inf)\": []\n",
    "}\n",
    "\n",
    "results = {}\n",
    "for name, basis_function in zip(['A', 'B', 'C', 'D'], [basis_A, basis_B, basis_C, basis_D]):\n",
    "    A = create_matrix(t_values, basis_function)\n",
    "    \n",
    "    condition_numbers[\"Basis Function\"].append(name)\n",
    "    condition_numbers[\"Condition Number (Norm 1)\"].append(np.linalg.cond(A, 1))\n",
    "    condition_numbers[\"Condition Number (Norm 2)\"].append(np.linalg.cond(A, 2))\n",
    "    condition_numbers[\"Condition Number (Norm Inf)\"].append(np.linalg.cond(A, np.inf))"
   ]
  },
  {
   "cell_type": "code",
   "execution_count": 85,
   "metadata": {},
   "outputs": [
    {
     "data": {
      "text/html": [
       "<div>\n",
       "<style scoped>\n",
       "    .dataframe tbody tr th:only-of-type {\n",
       "        vertical-align: middle;\n",
       "    }\n",
       "\n",
       "    .dataframe tbody tr th {\n",
       "        vertical-align: top;\n",
       "    }\n",
       "\n",
       "    .dataframe thead th {\n",
       "        text-align: right;\n",
       "    }\n",
       "</style>\n",
       "<table border=\"1\" class=\"dataframe\">\n",
       "  <thead>\n",
       "    <tr style=\"text-align: right;\">\n",
       "      <th></th>\n",
       "      <th>Basis Function</th>\n",
       "      <th>Condition Number (Norm 1)</th>\n",
       "      <th>Condition Number (Norm 2)</th>\n",
       "      <th>Condition Number (Norm Inf)</th>\n",
       "    </tr>\n",
       "  </thead>\n",
       "  <tbody>\n",
       "    <tr>\n",
       "      <th>0</th>\n",
       "      <td>A</td>\n",
       "      <td>3.792093e+19</td>\n",
       "      <td>3.019143e+19</td>\n",
       "      <td>1.688140e+19</td>\n",
       "    </tr>\n",
       "    <tr>\n",
       "      <th>1</th>\n",
       "      <td>B</td>\n",
       "      <td>3.638566e+19</td>\n",
       "      <td>1.522222e+19</td>\n",
       "      <td>1.688140e+19</td>\n",
       "    </tr>\n",
       "    <tr>\n",
       "      <th>2</th>\n",
       "      <td>C</td>\n",
       "      <td>3.638566e+19</td>\n",
       "      <td>2.139499e+19</td>\n",
       "      <td>1.688140e+19</td>\n",
       "    </tr>\n",
       "    <tr>\n",
       "      <th>3</th>\n",
       "      <td>D</td>\n",
       "      <td>4.362035e+11</td>\n",
       "      <td>3.757197e+11</td>\n",
       "      <td>7.825730e+11</td>\n",
       "    </tr>\n",
       "  </tbody>\n",
       "</table>\n",
       "</div>"
      ],
      "text/plain": [
       "  Basis Function  Condition Number (Norm 1)  Condition Number (Norm 2)  \\\n",
       "0              A               3.792093e+19               3.019143e+19   \n",
       "1              B               3.638566e+19               1.522222e+19   \n",
       "2              C               3.638566e+19               2.139499e+19   \n",
       "3              D               4.362035e+11               3.757197e+11   \n",
       "\n",
       "   Condition Number (Norm Inf)  \n",
       "0                 1.688140e+19  \n",
       "1                 1.688140e+19  \n",
       "2                 1.688140e+19  \n",
       "3                 7.825730e+11  "
      ]
     },
     "execution_count": 85,
     "metadata": {},
     "output_type": "execute_result"
    }
   ],
   "source": [
    "condition_table = pd.DataFrame(condition_numbers)\n",
    "condition_table"
   ]
  }
 ],
 "metadata": {
  "kernelspec": {
   "display_name": ".venv",
   "language": "python",
   "name": "python3"
  },
  "language_info": {
   "codemirror_mode": {
    "name": "ipython",
    "version": 3
   },
   "file_extension": ".py",
   "mimetype": "text/x-python",
   "name": "python",
   "nbconvert_exporter": "python",
   "pygments_lexer": "ipython3",
   "version": "3.12.6"
  }
 },
 "nbformat": 4,
 "nbformat_minor": 2
}
