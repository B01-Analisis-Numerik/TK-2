{
 "cells": [
  {
   "cell_type": "code",
   "execution_count": 24,
   "metadata": {},
   "outputs": [],
   "source": [
    "import numpy as np\n",
    "import pandas as pd"
   ]
  },
  {
   "cell_type": "code",
   "execution_count": 25,
   "metadata": {},
   "outputs": [],
   "source": [
    "t_values = np.array([0, 60, 120, 180, 240, 300, 360, 420, 480, 540])\n",
    "x_values = np.array([0, 2.73, 2.70, 2.62, 2.68, 2.68, 2.64, 2.72, 2.69, 2.55])\n",
    "y_values = np.array([0, 5, 10, 15, 20, 25, 30, 35, 40, 45])"
   ]
  },
  {
   "cell_type": "code",
   "execution_count": 26,
   "metadata": {},
   "outputs": [],
   "source": [
    "def basis_A(t, i):\n",
    "    return t ** i\n",
    "\n",
    "def basis_B(t, i):\n",
    "    return (t - 60) ** i\n",
    "\n",
    "def basis_C(t, i):\n",
    "    return (t - 480) ** i\n",
    "\n",
    "def basis_D(t, i):\n",
    "    return ((t - 480) / 30) ** i"
   ]
  },
  {
   "cell_type": "code",
   "execution_count": 27,
   "metadata": {},
   "outputs": [],
   "source": [
    "def create_matrix_A(t_values, basis_function):\n",
    "    n = len(t_values)\n",
    "    A = np.zeros((n, n))\n",
    "    for i in range(n):\n",
    "        for j in range(n):\n",
    "            A[i, j] = basis_function(t_values[i], j)\n",
    "    return A"
   ]
  },
  {
   "cell_type": "code",
   "execution_count": 28,
   "metadata": {},
   "outputs": [],
   "source": [
    "results = {}\n",
    "for name, basis_function in zip(['A', 'B', 'C', 'D'], [basis_A, basis_B, basis_C, basis_D]):\n",
    "    # Create matrix A\n",
    "    A = create_matrix_A(t_values, basis_function)\n",
    "    \n",
    "    # Solve Ac = x\n",
    "    c = np.linalg.solve(A, y_values)\n",
    "    \n",
    "    # Compute condition number\n",
    "    cond_number = np.linalg.cond(A)\n",
    "    \n",
    "    # Store results\n",
    "    results[name] = {\n",
    "        'A': A,\n",
    "        'c': c,\n",
    "        'condition_number': cond_number\n",
    "    }"
   ]
  },
  {
   "cell_type": "code",
   "execution_count": 29,
   "metadata": {},
   "outputs": [],
   "source": [
    "basis_summary = pd.DataFrame({\n",
    "    \"Basis\": [\"A\", \"B\", \"C\", \"D\"],\n",
    "    \"Condition Number\": [results[name]['condition_number'] for name in ['A', 'B', 'C', 'D']]\n",
    "})"
   ]
  },
  {
   "cell_type": "code",
   "execution_count": 30,
   "metadata": {},
   "outputs": [
    {
     "name": "stdout",
     "output_type": "stream",
     "text": [
      "Basis D:\n",
      "Matrix A:\n",
      "[[ 1.00000000e+00 -1.60000000e+01  2.56000000e+02 -4.09600000e+03\n",
      "   6.55360000e+04 -1.04857600e+06  1.67772160e+07 -2.68435456e+08\n",
      "   4.29496730e+09 -6.87194767e+10]\n",
      " [ 1.00000000e+00 -1.40000000e+01  1.96000000e+02 -2.74400000e+03\n",
      "   3.84160000e+04 -5.37824000e+05  7.52953600e+06 -1.05413504e+08\n",
      "   1.47578906e+09 -2.06610468e+10]\n",
      " [ 1.00000000e+00 -1.20000000e+01  1.44000000e+02 -1.72800000e+03\n",
      "   2.07360000e+04 -2.48832000e+05  2.98598400e+06 -3.58318080e+07\n",
      "   4.29981696e+08 -5.15978035e+09]\n",
      " [ 1.00000000e+00 -1.00000000e+01  1.00000000e+02 -1.00000000e+03\n",
      "   1.00000000e+04 -1.00000000e+05  1.00000000e+06 -1.00000000e+07\n",
      "   1.00000000e+08 -1.00000000e+09]\n",
      " [ 1.00000000e+00 -8.00000000e+00  6.40000000e+01 -5.12000000e+02\n",
      "   4.09600000e+03 -3.27680000e+04  2.62144000e+05 -2.09715200e+06\n",
      "   1.67772160e+07 -1.34217728e+08]\n",
      " [ 1.00000000e+00 -6.00000000e+00  3.60000000e+01 -2.16000000e+02\n",
      "   1.29600000e+03 -7.77600000e+03  4.66560000e+04 -2.79936000e+05\n",
      "   1.67961600e+06 -1.00776960e+07]\n",
      " [ 1.00000000e+00 -4.00000000e+00  1.60000000e+01 -6.40000000e+01\n",
      "   2.56000000e+02 -1.02400000e+03  4.09600000e+03 -1.63840000e+04\n",
      "   6.55360000e+04 -2.62144000e+05]\n",
      " [ 1.00000000e+00 -2.00000000e+00  4.00000000e+00 -8.00000000e+00\n",
      "   1.60000000e+01 -3.20000000e+01  6.40000000e+01 -1.28000000e+02\n",
      "   2.56000000e+02 -5.12000000e+02]\n",
      " [ 1.00000000e+00  0.00000000e+00  0.00000000e+00  0.00000000e+00\n",
      "   0.00000000e+00  0.00000000e+00  0.00000000e+00  0.00000000e+00\n",
      "   0.00000000e+00  0.00000000e+00]\n",
      " [ 1.00000000e+00  2.00000000e+00  4.00000000e+00  8.00000000e+00\n",
      "   1.60000000e+01  3.20000000e+01  6.40000000e+01  1.28000000e+02\n",
      "   2.56000000e+02  5.12000000e+02]]\n",
      "Coefficients:\n",
      "[ 4.00000000e+01  2.50000000e+00 -5.30193173e-15  1.86927193e-15\n",
      "  1.38781182e-15  3.26315253e-16  3.95516953e-17  2.65990933e-18\n",
      "  9.43083794e-20  1.37676466e-21]\n",
      "Condition number:  375719717299.4178\n"
     ]
    }
   ],
   "source": [
    "# Basis D\n",
    "print(\"Basis D:\")\n",
    "print(\"Matrix A:\")\n",
    "print(results['D']['A'])\n",
    "print(\"Coefficients:\")\n",
    "print(results['D']['c'])\n",
    "print(\"Condition number: \", results['D']['condition_number'])"
   ]
  }
 ],
 "metadata": {
  "kernelspec": {
   "display_name": ".venv",
   "language": "python",
   "name": "python3"
  },
  "language_info": {
   "codemirror_mode": {
    "name": "ipython",
    "version": 3
   },
   "file_extension": ".py",
   "mimetype": "text/x-python",
   "name": "python",
   "nbconvert_exporter": "python",
   "pygments_lexer": "ipython3",
   "version": "3.12.6"
  }
 },
 "nbformat": 4,
 "nbformat_minor": 2
}
